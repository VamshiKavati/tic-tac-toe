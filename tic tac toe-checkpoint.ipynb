{
 "cells": [
  {
   "cell_type": "code",
   "execution_count": 26,
   "metadata": {},
   "outputs": [],
   "source": [
    "# creating empty board\n",
    "board = [\"-\", \"-\", \"-\", \"-\", \"-\", \"-\", \"-\", \"-\", \"-\",]\n",
    "\n",
    "#assigning value 0 as initial player\n",
    "player_id = \"0\"\n",
    "\n",
    "#required varibles\n",
    "game_on = True\n",
    "winner = \"\""
   ]
  },
  {
   "cell_type": "code",
   "execution_count": 27,
   "metadata": {},
   "outputs": [],
   "source": [
    "# created a function to start/play game\n",
    "def play_game():\n",
    "  display()\n",
    "\n",
    "  while game_on:\n",
    "        \n",
    "    #to select a block by particular player\n",
    "    handle_turn(player_id)\n",
    "    \n",
    "    # display the board\n",
    "    display()\n",
    "\n",
    "    #check game over or not\n",
    "    check_if_game_over()\n",
    "\n",
    "    # if game is over print result else move to next step\n",
    "    if game_on == False:\n",
    "      display_winner()\n",
    "\n",
    "    # fliping palyer alternatively\n",
    "    flip_player()"
   ]
  },
  {
   "cell_type": "code",
   "execution_count": 28,
   "metadata": {},
   "outputs": [],
   "source": [
    "# creating a fuction to display board\n",
    "def display():\n",
    "  print(\"\",board[0], \"|\", board[1], \"|\", board[2], \"\\n\",\n",
    "        board[3], \"|\", board[4], \"|\", board[5], \"\\n\",\n",
    "        board[6], \"|\", board[7], \"|\", board[8],)"
   ]
  },
  {
   "cell_type": "code",
   "execution_count": 29,
   "metadata": {},
   "outputs": [],
   "source": [
    "# function for selecting particular block \n",
    "def handle_turn(player_id):\n",
    "    \n",
    "  print(\"\\n '{} turn !'\".format(player_id))\n",
    "  choice = int(input('Choose value between 1-9: '))\n",
    "\n",
    "  valid = False\n",
    "\n",
    "  while not valid:\n",
    "    while choice not in [*range(1,10)]:\n",
    "\n",
    "      print(\"invalid choice, Please select valid number\")\n",
    "\n",
    "      choice = int(input('Choose value between 1-9: '))\n",
    "\n",
    "    if board[choice-1] == \"-\":\n",
    "      valid = True\n",
    "    else:\n",
    "      print(\"invalid block, Please select valid number\")\n",
    "\n",
    "      choice = int(input('Choose value between 1-9: '))\n",
    "\n",
    "  board[choice - 1] = player_id\n",
    "    "
   ]
  },
  {
   "cell_type": "code",
   "execution_count": 30,
   "metadata": {},
   "outputs": [],
   "source": [
    "# display winner\n",
    "\n",
    "def display_winner():\n",
    "    print('\\n****************************************************************************')\n",
    "    print(\"Winner is : {}\".format(winner))"
   ]
  },
  {
   "cell_type": "code",
   "execution_count": 31,
   "metadata": {},
   "outputs": [],
   "source": [
    "# function to check game over or to continue\n",
    "\n",
    "def check_if_game_over():\n",
    "  check_rows()\n",
    "  check_columns()\n",
    "  check_diagonals()\n",
    "  tie()\n",
    "\n",
    "    \n",
    "#checking rows for winner\n",
    "def check_rows():\n",
    "  global game_on, winner\n",
    "  if (board[0]==board[1]==board[2] and board[0]!=\"-\") or (board[3]==board[4]==board[5] and board[3]!=\"-\") or (board[6]==board[7]==board[8] and board[7]!=\"-\"):\n",
    "        winner = player_id\n",
    "        game_on = False\n",
    "\n",
    "        \n",
    "#checking column for winner\n",
    "def check_columns():\n",
    "  global game_on, winner\n",
    "  if (board[0]==board[3]==board[6] and board[0]!=\"-\") or (board[1]==board[4]==board[7] and board[1]!=\"-\") or (board[2]==board[5]==board[8] and board[2]!=\"-\"):\n",
    "        winner = player_id\n",
    "        game_on = False\n",
    "\n",
    "        \n",
    "#checking diagonals for winner\n",
    "def check_diagonals():\n",
    "  global game_on, winner\n",
    "  if (board[0]==board[4]==board[8] and board[0]!=\"-\") or (board[2]==board[4]==board[6] and board[2]!=\"-\"):\n",
    "        winner = player_id\n",
    "        game_on = False\n",
    "\n",
    "\n",
    "# tie or not\n",
    "def tie():\n",
    "  if \"-\" not in board:\n",
    "    print(\"****tie*****\")\n",
    "    exit()"
   ]
  },
  {
   "cell_type": "code",
   "execution_count": 32,
   "metadata": {},
   "outputs": [],
   "source": [
    "#flip the player\n",
    "\n",
    "def flip_player():\n",
    "  global player_id\n",
    "  if player_id == \"0\":\n",
    "    player_id = \"X\"\n",
    "  else:\n",
    "    player_id = \"0\""
   ]
  },
  {
   "cell_type": "code",
   "execution_count": null,
   "metadata": {},
   "outputs": [
    {
     "name": "stdout",
     "output_type": "stream",
     "text": [
      " - | - | - \n",
      " - | - | - \n",
      " - | - | -\n",
      "\n",
      " '0 turn !'\n"
     ]
    }
   ],
   "source": [
    "# start the play\n",
    "\n",
    "play_game()"
   ]
  },
  {
   "cell_type": "code",
   "execution_count": null,
   "metadata": {},
   "outputs": [],
   "source": []
  }
 ],
 "metadata": {
  "kernelspec": {
   "display_name": "Python 3",
   "language": "python",
   "name": "python3"
  },
  "language_info": {
   "codemirror_mode": {
    "name": "ipython",
    "version": 3
   },
   "file_extension": ".py",
   "mimetype": "text/x-python",
   "name": "python",
   "nbconvert_exporter": "python",
   "pygments_lexer": "ipython3",
   "version": "3.8.3"
  }
 },
 "nbformat": 4,
 "nbformat_minor": 4
}
